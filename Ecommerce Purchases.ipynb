{
 "cells": [
  {
   "cell_type": "markdown",
   "metadata": {},
   "source": [
    "<h1> Ecommerce Purchases Project"
   ]
  },
  {
   "cell_type": "markdown",
   "metadata": {},
   "source": [
    "The data is taken from the \"kaggke.com\""
   ]
  },
  {
   "cell_type": "code",
   "execution_count": 1,
   "metadata": {},
   "outputs": [],
   "source": [
    "# import import libraries\n",
    "import pandas as pd\n",
    "import numpy as np\n",
    "import matplotlib.pyplot as plt\n",
    "import seaborn as sns"
   ]
  },
  {
   "cell_type": "markdown",
   "metadata": {},
   "source": [
    "Load the data"
   ]
  },
  {
   "cell_type": "code",
   "execution_count": 2,
   "metadata": {},
   "outputs": [],
   "source": [
    "df = pd.read_csv(r\"D:\\HP\\datasets kaggle\\Ecommerce Customers.csv\")\n"
   ]
  },
  {
   "cell_type": "markdown",
   "metadata": {},
   "source": [
    "**check the head of data**"
   ]
  },
  {
   "cell_type": "code",
   "execution_count": 3,
   "metadata": {},
   "outputs": [
    {
     "data": {
      "text/html": [
       "<div>\n",
       "<style scoped>\n",
       "    .dataframe tbody tr th:only-of-type {\n",
       "        vertical-align: middle;\n",
       "    }\n",
       "\n",
       "    .dataframe tbody tr th {\n",
       "        vertical-align: top;\n",
       "    }\n",
       "\n",
       "    .dataframe thead th {\n",
       "        text-align: right;\n",
       "    }\n",
       "</style>\n",
       "<table border=\"1\" class=\"dataframe\">\n",
       "  <thead>\n",
       "    <tr style=\"text-align: right;\">\n",
       "      <th></th>\n",
       "      <th>Email</th>\n",
       "      <th>Address</th>\n",
       "      <th>Avatar</th>\n",
       "      <th>Avg. Session Length</th>\n",
       "      <th>Time on App</th>\n",
       "      <th>Time on Website</th>\n",
       "      <th>Length of Membership</th>\n",
       "      <th>Yearly Amount Spent</th>\n",
       "    </tr>\n",
       "  </thead>\n",
       "  <tbody>\n",
       "    <tr>\n",
       "      <th>0</th>\n",
       "      <td>mstephenson@fernandez.com</td>\n",
       "      <td>835 Frank Tunnel\\nWrightmouth, MI 82180-9605</td>\n",
       "      <td>Violet</td>\n",
       "      <td>34.497268</td>\n",
       "      <td>12.655651</td>\n",
       "      <td>39.577668</td>\n",
       "      <td>4.082621</td>\n",
       "      <td>587.951054</td>\n",
       "    </tr>\n",
       "    <tr>\n",
       "      <th>1</th>\n",
       "      <td>hduke@hotmail.com</td>\n",
       "      <td>4547 Archer Common\\nDiazchester, CA 06566-8576</td>\n",
       "      <td>DarkGreen</td>\n",
       "      <td>31.926272</td>\n",
       "      <td>11.109461</td>\n",
       "      <td>37.268959</td>\n",
       "      <td>2.664034</td>\n",
       "      <td>392.204933</td>\n",
       "    </tr>\n",
       "    <tr>\n",
       "      <th>2</th>\n",
       "      <td>pallen@yahoo.com</td>\n",
       "      <td>24645 Valerie Unions Suite 582\\nCobbborough, D...</td>\n",
       "      <td>Bisque</td>\n",
       "      <td>33.000915</td>\n",
       "      <td>11.330278</td>\n",
       "      <td>37.110597</td>\n",
       "      <td>4.104543</td>\n",
       "      <td>487.547505</td>\n",
       "    </tr>\n",
       "    <tr>\n",
       "      <th>3</th>\n",
       "      <td>riverarebecca@gmail.com</td>\n",
       "      <td>1414 David Throughway\\nPort Jason, OH 22070-1220</td>\n",
       "      <td>SaddleBrown</td>\n",
       "      <td>34.305557</td>\n",
       "      <td>13.717514</td>\n",
       "      <td>36.721283</td>\n",
       "      <td>3.120179</td>\n",
       "      <td>581.852344</td>\n",
       "    </tr>\n",
       "    <tr>\n",
       "      <th>4</th>\n",
       "      <td>mstephens@davidson-herman.com</td>\n",
       "      <td>14023 Rodriguez Passage\\nPort Jacobville, PR 3...</td>\n",
       "      <td>MediumAquaMarine</td>\n",
       "      <td>33.330673</td>\n",
       "      <td>12.795189</td>\n",
       "      <td>37.536653</td>\n",
       "      <td>4.446308</td>\n",
       "      <td>599.406092</td>\n",
       "    </tr>\n",
       "  </tbody>\n",
       "</table>\n",
       "</div>"
      ],
      "text/plain": [
       "                           Email  \\\n",
       "0      mstephenson@fernandez.com   \n",
       "1              hduke@hotmail.com   \n",
       "2               pallen@yahoo.com   \n",
       "3        riverarebecca@gmail.com   \n",
       "4  mstephens@davidson-herman.com   \n",
       "\n",
       "                                             Address            Avatar  \\\n",
       "0       835 Frank Tunnel\\nWrightmouth, MI 82180-9605            Violet   \n",
       "1     4547 Archer Common\\nDiazchester, CA 06566-8576         DarkGreen   \n",
       "2  24645 Valerie Unions Suite 582\\nCobbborough, D...            Bisque   \n",
       "3   1414 David Throughway\\nPort Jason, OH 22070-1220       SaddleBrown   \n",
       "4  14023 Rodriguez Passage\\nPort Jacobville, PR 3...  MediumAquaMarine   \n",
       "\n",
       "   Avg. Session Length  Time on App  Time on Website  Length of Membership  \\\n",
       "0            34.497268    12.655651        39.577668              4.082621   \n",
       "1            31.926272    11.109461        37.268959              2.664034   \n",
       "2            33.000915    11.330278        37.110597              4.104543   \n",
       "3            34.305557    13.717514        36.721283              3.120179   \n",
       "4            33.330673    12.795189        37.536653              4.446308   \n",
       "\n",
       "   Yearly Amount Spent  \n",
       "0           587.951054  \n",
       "1           392.204933  \n",
       "2           487.547505  \n",
       "3           581.852344  \n",
       "4           599.406092  "
      ]
     },
     "execution_count": 3,
     "metadata": {},
     "output_type": "execute_result"
    }
   ],
   "source": [
    "df.head()"
   ]
  },
  {
   "cell_type": "markdown",
   "metadata": {},
   "source": [
    "##### Explore the data"
   ]
  },
  {
   "cell_type": "code",
   "execution_count": 4,
   "metadata": {},
   "outputs": [
    {
     "name": "stdout",
     "output_type": "stream",
     "text": [
      "<class 'pandas.core.frame.DataFrame'>\n",
      "RangeIndex: 500 entries, 0 to 499\n",
      "Data columns (total 8 columns):\n",
      " #   Column                Non-Null Count  Dtype  \n",
      "---  ------                --------------  -----  \n",
      " 0   Email                 500 non-null    object \n",
      " 1   Address               500 non-null    object \n",
      " 2   Avatar                500 non-null    object \n",
      " 3   Avg. Session Length   500 non-null    float64\n",
      " 4   Time on App           500 non-null    float64\n",
      " 5   Time on Website       500 non-null    float64\n",
      " 6   Length of Membership  500 non-null    float64\n",
      " 7   Yearly Amount Spent   500 non-null    float64\n",
      "dtypes: float64(5), object(3)\n",
      "memory usage: 31.4+ KB\n"
     ]
    }
   ],
   "source": [
    "df.info()"
   ]
  },
  {
   "cell_type": "code",
   "execution_count": 5,
   "metadata": {},
   "outputs": [
    {
     "data": {
      "text/html": [
       "<div>\n",
       "<style scoped>\n",
       "    .dataframe tbody tr th:only-of-type {\n",
       "        vertical-align: middle;\n",
       "    }\n",
       "\n",
       "    .dataframe tbody tr th {\n",
       "        vertical-align: top;\n",
       "    }\n",
       "\n",
       "    .dataframe thead th {\n",
       "        text-align: right;\n",
       "    }\n",
       "</style>\n",
       "<table border=\"1\" class=\"dataframe\">\n",
       "  <thead>\n",
       "    <tr style=\"text-align: right;\">\n",
       "      <th></th>\n",
       "      <th>Avg. Session Length</th>\n",
       "      <th>Time on App</th>\n",
       "      <th>Time on Website</th>\n",
       "      <th>Length of Membership</th>\n",
       "      <th>Yearly Amount Spent</th>\n",
       "    </tr>\n",
       "  </thead>\n",
       "  <tbody>\n",
       "    <tr>\n",
       "      <th>count</th>\n",
       "      <td>500.000000</td>\n",
       "      <td>500.000000</td>\n",
       "      <td>500.000000</td>\n",
       "      <td>500.000000</td>\n",
       "      <td>500.000000</td>\n",
       "    </tr>\n",
       "    <tr>\n",
       "      <th>mean</th>\n",
       "      <td>33.053194</td>\n",
       "      <td>12.052488</td>\n",
       "      <td>37.060445</td>\n",
       "      <td>3.533462</td>\n",
       "      <td>499.314038</td>\n",
       "    </tr>\n",
       "    <tr>\n",
       "      <th>std</th>\n",
       "      <td>0.992563</td>\n",
       "      <td>0.994216</td>\n",
       "      <td>1.010489</td>\n",
       "      <td>0.999278</td>\n",
       "      <td>79.314782</td>\n",
       "    </tr>\n",
       "    <tr>\n",
       "      <th>min</th>\n",
       "      <td>29.532429</td>\n",
       "      <td>8.508152</td>\n",
       "      <td>33.913847</td>\n",
       "      <td>0.269901</td>\n",
       "      <td>256.670582</td>\n",
       "    </tr>\n",
       "    <tr>\n",
       "      <th>25%</th>\n",
       "      <td>32.341822</td>\n",
       "      <td>11.388153</td>\n",
       "      <td>36.349257</td>\n",
       "      <td>2.930450</td>\n",
       "      <td>445.038277</td>\n",
       "    </tr>\n",
       "    <tr>\n",
       "      <th>50%</th>\n",
       "      <td>33.082008</td>\n",
       "      <td>11.983231</td>\n",
       "      <td>37.069367</td>\n",
       "      <td>3.533975</td>\n",
       "      <td>498.887875</td>\n",
       "    </tr>\n",
       "    <tr>\n",
       "      <th>75%</th>\n",
       "      <td>33.711985</td>\n",
       "      <td>12.753850</td>\n",
       "      <td>37.716432</td>\n",
       "      <td>4.126502</td>\n",
       "      <td>549.313828</td>\n",
       "    </tr>\n",
       "    <tr>\n",
       "      <th>max</th>\n",
       "      <td>36.139662</td>\n",
       "      <td>15.126994</td>\n",
       "      <td>40.005182</td>\n",
       "      <td>6.922689</td>\n",
       "      <td>765.518462</td>\n",
       "    </tr>\n",
       "  </tbody>\n",
       "</table>\n",
       "</div>"
      ],
      "text/plain": [
       "       Avg. Session Length  Time on App  Time on Website  \\\n",
       "count           500.000000   500.000000       500.000000   \n",
       "mean             33.053194    12.052488        37.060445   \n",
       "std               0.992563     0.994216         1.010489   \n",
       "min              29.532429     8.508152        33.913847   \n",
       "25%              32.341822    11.388153        36.349257   \n",
       "50%              33.082008    11.983231        37.069367   \n",
       "75%              33.711985    12.753850        37.716432   \n",
       "max              36.139662    15.126994        40.005182   \n",
       "\n",
       "       Length of Membership  Yearly Amount Spent  \n",
       "count            500.000000           500.000000  \n",
       "mean               3.533462           499.314038  \n",
       "std                0.999278            79.314782  \n",
       "min                0.269901           256.670582  \n",
       "25%                2.930450           445.038277  \n",
       "50%                3.533975           498.887875  \n",
       "75%                4.126502           549.313828  \n",
       "max                6.922689           765.518462  "
      ]
     },
     "execution_count": 5,
     "metadata": {},
     "output_type": "execute_result"
    }
   ],
   "source": [
    "df.describe()"
   ]
  },
  {
   "cell_type": "markdown",
   "metadata": {},
   "source": [
    "-------------------\n",
    "#### Where is the Mostly time spend"
   ]
  },
  {
   "cell_type": "code",
   "execution_count": 6,
   "metadata": {},
   "outputs": [
    {
     "data": {
      "text/plain": [
       "6026.243968583066"
      ]
     },
     "execution_count": 6,
     "metadata": {},
     "output_type": "execute_result"
    }
   ],
   "source": [
    "df['Time on App'].sum()"
   ]
  },
  {
   "cell_type": "code",
   "execution_count": 7,
   "metadata": {},
   "outputs": [
    {
     "data": {
      "text/plain": [
       "18530.222710474292"
      ]
     },
     "execution_count": 7,
     "metadata": {},
     "output_type": "execute_result"
    }
   ],
   "source": [
    "df['Time on Website'].sum()"
   ]
  },
  {
   "cell_type": "markdown",
   "metadata": {},
   "source": [
    "**Mostly time spend on website**\n",
    "___________________________________\n",
    "____________________________________"
   ]
  },
  {
   "cell_type": "markdown",
   "metadata": {},
   "source": [
    "#### Highest amount spend yearly"
   ]
  },
  {
   "cell_type": "code",
   "execution_count": 8,
   "metadata": {},
   "outputs": [
    {
     "data": {
      "text/plain": [
       "765.5184619388372"
      ]
     },
     "execution_count": 8,
     "metadata": {},
     "output_type": "execute_result"
    }
   ],
   "source": [
    "df['Yearly Amount Spent'].max()"
   ]
  },
  {
   "cell_type": "code",
   "execution_count": 9,
   "metadata": {},
   "outputs": [
    {
     "data": {
      "text/html": [
       "<div>\n",
       "<style scoped>\n",
       "    .dataframe tbody tr th:only-of-type {\n",
       "        vertical-align: middle;\n",
       "    }\n",
       "\n",
       "    .dataframe tbody tr th {\n",
       "        vertical-align: top;\n",
       "    }\n",
       "\n",
       "    .dataframe thead th {\n",
       "        text-align: right;\n",
       "    }\n",
       "</style>\n",
       "<table border=\"1\" class=\"dataframe\">\n",
       "  <thead>\n",
       "    <tr style=\"text-align: right;\">\n",
       "      <th></th>\n",
       "      <th>Email</th>\n",
       "      <th>Address</th>\n",
       "      <th>Avatar</th>\n",
       "      <th>Avg. Session Length</th>\n",
       "      <th>Time on App</th>\n",
       "      <th>Time on Website</th>\n",
       "      <th>Length of Membership</th>\n",
       "      <th>Yearly Amount Spent</th>\n",
       "    </tr>\n",
       "  </thead>\n",
       "  <tbody>\n",
       "    <tr>\n",
       "      <th>65</th>\n",
       "      <td>kyang@diaz.org</td>\n",
       "      <td>223 Love Trail Suite 831\\nPort Jeffrey, IN 46849</td>\n",
       "      <td>OliveDrab</td>\n",
       "      <td>34.374258</td>\n",
       "      <td>15.126994</td>\n",
       "      <td>37.157624</td>\n",
       "      <td>5.377594</td>\n",
       "      <td>765.518462</td>\n",
       "    </tr>\n",
       "  </tbody>\n",
       "</table>\n",
       "</div>"
      ],
      "text/plain": [
       "             Email                                           Address  \\\n",
       "65  kyang@diaz.org  223 Love Trail Suite 831\\nPort Jeffrey, IN 46849   \n",
       "\n",
       "       Avatar  Avg. Session Length  Time on App  Time on Website  \\\n",
       "65  OliveDrab            34.374258    15.126994        37.157624   \n",
       "\n",
       "    Length of Membership  Yearly Amount Spent  \n",
       "65              5.377594           765.518462  "
      ]
     },
     "execution_count": 9,
     "metadata": {},
     "output_type": "execute_result"
    }
   ],
   "source": [
    "df.loc[df['Yearly Amount Spent'] == df['Yearly Amount Spent'].max()]"
   ]
  },
  {
   "cell_type": "markdown",
   "metadata": {},
   "source": [
    "**'kyang@diaz.org' has spent Highest amount in the year**\n",
    "_________________\n",
    "----------------"
   ]
  },
  {
   "cell_type": "markdown",
   "metadata": {},
   "source": [
    "##### TOP 10 highest amount spend"
   ]
  },
  {
   "cell_type": "code",
   "execution_count": 10,
   "metadata": {},
   "outputs": [
    {
     "data": {
      "text/html": [
       "<div>\n",
       "<style scoped>\n",
       "    .dataframe tbody tr th:only-of-type {\n",
       "        vertical-align: middle;\n",
       "    }\n",
       "\n",
       "    .dataframe tbody tr th {\n",
       "        vertical-align: top;\n",
       "    }\n",
       "\n",
       "    .dataframe thead th {\n",
       "        text-align: right;\n",
       "    }\n",
       "</style>\n",
       "<table border=\"1\" class=\"dataframe\">\n",
       "  <thead>\n",
       "    <tr style=\"text-align: right;\">\n",
       "      <th></th>\n",
       "      <th>Email</th>\n",
       "      <th>Address</th>\n",
       "      <th>Avatar</th>\n",
       "      <th>Avg. Session Length</th>\n",
       "      <th>Time on App</th>\n",
       "      <th>Time on Website</th>\n",
       "      <th>Length of Membership</th>\n",
       "      <th>Yearly Amount Spent</th>\n",
       "    </tr>\n",
       "  </thead>\n",
       "  <tbody>\n",
       "    <tr>\n",
       "      <th>65</th>\n",
       "      <td>kyang@diaz.org</td>\n",
       "      <td>223 Love Trail Suite 831\\nPort Jeffrey, IN 46849</td>\n",
       "      <td>OliveDrab</td>\n",
       "      <td>34.374258</td>\n",
       "      <td>15.126994</td>\n",
       "      <td>37.157624</td>\n",
       "      <td>5.377594</td>\n",
       "      <td>765.518462</td>\n",
       "    </tr>\n",
       "    <tr>\n",
       "      <th>157</th>\n",
       "      <td>asilva@yahoo.com</td>\n",
       "      <td>USNV Johnson\\nFPO AP 19026</td>\n",
       "      <td>Wheat</td>\n",
       "      <td>34.603311</td>\n",
       "      <td>12.207298</td>\n",
       "      <td>33.913847</td>\n",
       "      <td>6.922689</td>\n",
       "      <td>744.221867</td>\n",
       "    </tr>\n",
       "    <tr>\n",
       "      <th>50</th>\n",
       "      <td>william82@gmail.com</td>\n",
       "      <td>11143 Park Squares\\nSamanthatown, UT 97073</td>\n",
       "      <td>SandyBrown</td>\n",
       "      <td>33.256335</td>\n",
       "      <td>13.858062</td>\n",
       "      <td>37.780265</td>\n",
       "      <td>5.976768</td>\n",
       "      <td>725.584814</td>\n",
       "    </tr>\n",
       "    <tr>\n",
       "      <th>205</th>\n",
       "      <td>jeffrey54@mcdonald-williams.com</td>\n",
       "      <td>297 Francis Valley\\nSouth Lindsey, NY 13669-5367</td>\n",
       "      <td>Gainsboro</td>\n",
       "      <td>34.967610</td>\n",
       "      <td>13.919494</td>\n",
       "      <td>37.952013</td>\n",
       "      <td>5.066697</td>\n",
       "      <td>712.396327</td>\n",
       "    </tr>\n",
       "    <tr>\n",
       "      <th>368</th>\n",
       "      <td>rhonda01@gmail.com</td>\n",
       "      <td>939 Watson Run\\nStaceyberg, VT 58376-0454</td>\n",
       "      <td>Orchid</td>\n",
       "      <td>34.385820</td>\n",
       "      <td>12.729720</td>\n",
       "      <td>36.232110</td>\n",
       "      <td>5.705941</td>\n",
       "      <td>708.935185</td>\n",
       "    </tr>\n",
       "    <tr>\n",
       "      <th>24</th>\n",
       "      <td>youngbarbara@yahoo.com</td>\n",
       "      <td>019 Elliott Tunnel Suite 190\\nNicholsbury, WV ...</td>\n",
       "      <td>Wheat</td>\n",
       "      <td>34.507551</td>\n",
       "      <td>12.893670</td>\n",
       "      <td>37.635756</td>\n",
       "      <td>5.705154</td>\n",
       "      <td>700.917092</td>\n",
       "    </tr>\n",
       "    <tr>\n",
       "      <th>305</th>\n",
       "      <td>randyrobinson@hotmail.com</td>\n",
       "      <td>14548 Hayes Isle Apt. 436\\nGarciaville, IN 65366</td>\n",
       "      <td>DarkGray</td>\n",
       "      <td>33.302672</td>\n",
       "      <td>13.459222</td>\n",
       "      <td>36.339521</td>\n",
       "      <td>5.566385</td>\n",
       "      <td>689.787604</td>\n",
       "    </tr>\n",
       "    <tr>\n",
       "      <th>464</th>\n",
       "      <td>susanibarra@yahoo.com</td>\n",
       "      <td>426 Scott Radial Apt. 065\\nAbigailstad, MS 165...</td>\n",
       "      <td>Thistle</td>\n",
       "      <td>32.533240</td>\n",
       "      <td>14.121784</td>\n",
       "      <td>38.406329</td>\n",
       "      <td>5.320094</td>\n",
       "      <td>689.235700</td>\n",
       "    </tr>\n",
       "    <tr>\n",
       "      <th>151</th>\n",
       "      <td>alicia85@lee.com</td>\n",
       "      <td>14220 Carla Flat Suite 521\\nLake Matthew, DE 0...</td>\n",
       "      <td>DimGray</td>\n",
       "      <td>32.887105</td>\n",
       "      <td>12.387184</td>\n",
       "      <td>37.431159</td>\n",
       "      <td>6.401229</td>\n",
       "      <td>684.163431</td>\n",
       "    </tr>\n",
       "    <tr>\n",
       "      <th>396</th>\n",
       "      <td>waltonkaren@gmail.com</td>\n",
       "      <td>355 Villegas Isle Apt. 070\\nWest Jenniferview,...</td>\n",
       "      <td>Green</td>\n",
       "      <td>35.742670</td>\n",
       "      <td>10.889828</td>\n",
       "      <td>35.565436</td>\n",
       "      <td>6.115199</td>\n",
       "      <td>669.987141</td>\n",
       "    </tr>\n",
       "  </tbody>\n",
       "</table>\n",
       "</div>"
      ],
      "text/plain": [
       "                               Email  \\\n",
       "65                    kyang@diaz.org   \n",
       "157                 asilva@yahoo.com   \n",
       "50               william82@gmail.com   \n",
       "205  jeffrey54@mcdonald-williams.com   \n",
       "368               rhonda01@gmail.com   \n",
       "24            youngbarbara@yahoo.com   \n",
       "305        randyrobinson@hotmail.com   \n",
       "464            susanibarra@yahoo.com   \n",
       "151                 alicia85@lee.com   \n",
       "396            waltonkaren@gmail.com   \n",
       "\n",
       "                                               Address      Avatar  \\\n",
       "65    223 Love Trail Suite 831\\nPort Jeffrey, IN 46849   OliveDrab   \n",
       "157                         USNV Johnson\\nFPO AP 19026       Wheat   \n",
       "50          11143 Park Squares\\nSamanthatown, UT 97073  SandyBrown   \n",
       "205   297 Francis Valley\\nSouth Lindsey, NY 13669-5367   Gainsboro   \n",
       "368          939 Watson Run\\nStaceyberg, VT 58376-0454      Orchid   \n",
       "24   019 Elliott Tunnel Suite 190\\nNicholsbury, WV ...       Wheat   \n",
       "305   14548 Hayes Isle Apt. 436\\nGarciaville, IN 65366    DarkGray   \n",
       "464  426 Scott Radial Apt. 065\\nAbigailstad, MS 165...     Thistle   \n",
       "151  14220 Carla Flat Suite 521\\nLake Matthew, DE 0...     DimGray   \n",
       "396  355 Villegas Isle Apt. 070\\nWest Jenniferview,...       Green   \n",
       "\n",
       "     Avg. Session Length  Time on App  Time on Website  Length of Membership  \\\n",
       "65             34.374258    15.126994        37.157624              5.377594   \n",
       "157            34.603311    12.207298        33.913847              6.922689   \n",
       "50             33.256335    13.858062        37.780265              5.976768   \n",
       "205            34.967610    13.919494        37.952013              5.066697   \n",
       "368            34.385820    12.729720        36.232110              5.705941   \n",
       "24             34.507551    12.893670        37.635756              5.705154   \n",
       "305            33.302672    13.459222        36.339521              5.566385   \n",
       "464            32.533240    14.121784        38.406329              5.320094   \n",
       "151            32.887105    12.387184        37.431159              6.401229   \n",
       "396            35.742670    10.889828        35.565436              6.115199   \n",
       "\n",
       "     Yearly Amount Spent  \n",
       "65            765.518462  \n",
       "157           744.221867  \n",
       "50            725.584814  \n",
       "205           712.396327  \n",
       "368           708.935185  \n",
       "24            700.917092  \n",
       "305           689.787604  \n",
       "464           689.235700  \n",
       "151           684.163431  \n",
       "396           669.987141  "
      ]
     },
     "execution_count": 10,
     "metadata": {},
     "output_type": "execute_result"
    }
   ],
   "source": [
    "df.sort_values('Yearly Amount Spent',ascending=False).head(10)"
   ]
  },
  {
   "cell_type": "markdown",
   "metadata": {},
   "source": [
    "________________\n",
    "___________________"
   ]
  },
  {
   "cell_type": "markdown",
   "metadata": {},
   "source": [
    "#### who spend minmum time on app & website"
   ]
  },
  {
   "cell_type": "code",
   "execution_count": 11,
   "metadata": {},
   "outputs": [
    {
     "data": {
      "text/html": [
       "<div>\n",
       "<style scoped>\n",
       "    .dataframe tbody tr th:only-of-type {\n",
       "        vertical-align: middle;\n",
       "    }\n",
       "\n",
       "    .dataframe tbody tr th {\n",
       "        vertical-align: top;\n",
       "    }\n",
       "\n",
       "    .dataframe thead th {\n",
       "        text-align: right;\n",
       "    }\n",
       "</style>\n",
       "<table border=\"1\" class=\"dataframe\">\n",
       "  <thead>\n",
       "    <tr style=\"text-align: right;\">\n",
       "      <th></th>\n",
       "      <th>Email</th>\n",
       "      <th>Address</th>\n",
       "      <th>Avatar</th>\n",
       "      <th>Avg. Session Length</th>\n",
       "      <th>Time on App</th>\n",
       "      <th>Time on Website</th>\n",
       "      <th>Length of Membership</th>\n",
       "      <th>Yearly Amount Spent</th>\n",
       "    </tr>\n",
       "  </thead>\n",
       "  <tbody>\n",
       "    <tr>\n",
       "      <th>157</th>\n",
       "      <td>asilva@yahoo.com</td>\n",
       "      <td>USNV Johnson\\nFPO AP 19026</td>\n",
       "      <td>Wheat</td>\n",
       "      <td>34.603311</td>\n",
       "      <td>12.207298</td>\n",
       "      <td>33.913847</td>\n",
       "      <td>6.922689</td>\n",
       "      <td>744.221867</td>\n",
       "    </tr>\n",
       "  </tbody>\n",
       "</table>\n",
       "</div>"
      ],
      "text/plain": [
       "                Email                     Address Avatar  Avg. Session Length  \\\n",
       "157  asilva@yahoo.com  USNV Johnson\\nFPO AP 19026  Wheat            34.603311   \n",
       "\n",
       "     Time on App  Time on Website  Length of Membership  Yearly Amount Spent  \n",
       "157    12.207298        33.913847              6.922689           744.221867  "
      ]
     },
     "execution_count": 11,
     "metadata": {},
     "output_type": "execute_result"
    }
   ],
   "source": [
    "df.loc[df['Time on Website'] == df['Time on Website'].min()]"
   ]
  },
  {
   "cell_type": "code",
   "execution_count": 12,
   "metadata": {},
   "outputs": [
    {
     "data": {
      "text/html": [
       "<div>\n",
       "<style scoped>\n",
       "    .dataframe tbody tr th:only-of-type {\n",
       "        vertical-align: middle;\n",
       "    }\n",
       "\n",
       "    .dataframe tbody tr th {\n",
       "        vertical-align: top;\n",
       "    }\n",
       "\n",
       "    .dataframe thead th {\n",
       "        text-align: right;\n",
       "    }\n",
       "</style>\n",
       "<table border=\"1\" class=\"dataframe\">\n",
       "  <thead>\n",
       "    <tr style=\"text-align: right;\">\n",
       "      <th></th>\n",
       "      <th>Email</th>\n",
       "      <th>Address</th>\n",
       "      <th>Avatar</th>\n",
       "      <th>Avg. Session Length</th>\n",
       "      <th>Time on App</th>\n",
       "      <th>Time on Website</th>\n",
       "      <th>Length of Membership</th>\n",
       "      <th>Yearly Amount Spent</th>\n",
       "    </tr>\n",
       "  </thead>\n",
       "  <tbody>\n",
       "    <tr>\n",
       "      <th>309</th>\n",
       "      <td>dblair@gmail.com</td>\n",
       "      <td>190 Kelley Burg\\nWest Juliaport, IA 35826-8163</td>\n",
       "      <td>MediumSlateBlue</td>\n",
       "      <td>34.102279</td>\n",
       "      <td>8.508152</td>\n",
       "      <td>35.4624</td>\n",
       "      <td>1.838211</td>\n",
       "      <td>302.189548</td>\n",
       "    </tr>\n",
       "  </tbody>\n",
       "</table>\n",
       "</div>"
      ],
      "text/plain": [
       "                Email                                         Address  \\\n",
       "309  dblair@gmail.com  190 Kelley Burg\\nWest Juliaport, IA 35826-8163   \n",
       "\n",
       "              Avatar  Avg. Session Length  Time on App  Time on Website  \\\n",
       "309  MediumSlateBlue            34.102279     8.508152          35.4624   \n",
       "\n",
       "     Length of Membership  Yearly Amount Spent  \n",
       "309              1.838211           302.189548  "
      ]
     },
     "execution_count": 12,
     "metadata": {},
     "output_type": "execute_result"
    }
   ],
   "source": [
    "df.loc[df['Time on App'] == df['Time on App'].min()]"
   ]
  },
  {
   "cell_type": "markdown",
   "metadata": {},
   "source": [
    "_____________"
   ]
  },
  {
   "cell_type": "markdown",
   "metadata": {},
   "source": [
    "#### What is the average length of Membership"
   ]
  },
  {
   "cell_type": "code",
   "execution_count": 13,
   "metadata": {},
   "outputs": [
    {
     "data": {
      "text/plain": [
       "3.5334615559150566"
      ]
     },
     "execution_count": 13,
     "metadata": {},
     "output_type": "execute_result"
    }
   ],
   "source": [
    "df['Length of Membership'].mean()"
   ]
  },
  {
   "cell_type": "markdown",
   "metadata": {},
   "source": [
    "#### Data of Cyan"
   ]
  },
  {
   "cell_type": "code",
   "execution_count": 14,
   "metadata": {},
   "outputs": [
    {
     "data": {
      "text/html": [
       "<div>\n",
       "<style scoped>\n",
       "    .dataframe tbody tr th:only-of-type {\n",
       "        vertical-align: middle;\n",
       "    }\n",
       "\n",
       "    .dataframe tbody tr th {\n",
       "        vertical-align: top;\n",
       "    }\n",
       "\n",
       "    .dataframe thead th {\n",
       "        text-align: right;\n",
       "    }\n",
       "</style>\n",
       "<table border=\"1\" class=\"dataframe\">\n",
       "  <thead>\n",
       "    <tr style=\"text-align: right;\">\n",
       "      <th></th>\n",
       "      <th>Email</th>\n",
       "      <th>Address</th>\n",
       "      <th>Avatar</th>\n",
       "      <th>Avg. Session Length</th>\n",
       "      <th>Time on App</th>\n",
       "      <th>Time on Website</th>\n",
       "      <th>Length of Membership</th>\n",
       "      <th>Yearly Amount Spent</th>\n",
       "    </tr>\n",
       "  </thead>\n",
       "  <tbody>\n",
       "    <tr>\n",
       "      <th>18</th>\n",
       "      <td>alejandro75@hotmail.com</td>\n",
       "      <td>64475 Andre Club Apt. 795\\nPort Dannytown, PW ...</td>\n",
       "      <td>Cyan</td>\n",
       "      <td>32.187812</td>\n",
       "      <td>14.715388</td>\n",
       "      <td>38.244115</td>\n",
       "      <td>1.516576</td>\n",
       "      <td>452.315675</td>\n",
       "    </tr>\n",
       "    <tr>\n",
       "      <th>125</th>\n",
       "      <td>jessica97@hotmail.com</td>\n",
       "      <td>32202 Curtis Branch Apt. 411\\nPort Brettmouth,...</td>\n",
       "      <td>Cyan</td>\n",
       "      <td>31.576132</td>\n",
       "      <td>12.579894</td>\n",
       "      <td>37.093265</td>\n",
       "      <td>4.531987</td>\n",
       "      <td>541.226584</td>\n",
       "    </tr>\n",
       "    <tr>\n",
       "      <th>221</th>\n",
       "      <td>mfoster@brown-white.com</td>\n",
       "      <td>36192 Ho Spring\\nNew Michael, RI 65851-6369</td>\n",
       "      <td>Cyan</td>\n",
       "      <td>33.636624</td>\n",
       "      <td>11.236507</td>\n",
       "      <td>37.675021</td>\n",
       "      <td>5.254709</td>\n",
       "      <td>591.437736</td>\n",
       "    </tr>\n",
       "    <tr>\n",
       "      <th>240</th>\n",
       "      <td>william28@gmail.com</td>\n",
       "      <td>16763 Melissa Creek Suite 367\\nNorth Keithland...</td>\n",
       "      <td>Cyan</td>\n",
       "      <td>32.922611</td>\n",
       "      <td>11.568116</td>\n",
       "      <td>36.909378</td>\n",
       "      <td>2.471751</td>\n",
       "      <td>398.163469</td>\n",
       "    </tr>\n",
       "    <tr>\n",
       "      <th>296</th>\n",
       "      <td>fuenteskathryn@schmidt-johnson.org</td>\n",
       "      <td>839 Heather Cliff\\nSouth Blake, SC 90412</td>\n",
       "      <td>Cyan</td>\n",
       "      <td>33.612563</td>\n",
       "      <td>11.470565</td>\n",
       "      <td>37.061689</td>\n",
       "      <td>3.802511</td>\n",
       "      <td>506.423860</td>\n",
       "    </tr>\n",
       "    <tr>\n",
       "      <th>310</th>\n",
       "      <td>veronicapruitt@hotmail.com</td>\n",
       "      <td>Unit 7502 Box 8345\\nDPO AE 53747</td>\n",
       "      <td>Cyan</td>\n",
       "      <td>33.248506</td>\n",
       "      <td>11.656592</td>\n",
       "      <td>36.548605</td>\n",
       "      <td>3.363411</td>\n",
       "      <td>479.614812</td>\n",
       "    </tr>\n",
       "    <tr>\n",
       "      <th>432</th>\n",
       "      <td>katherinegray@yahoo.com</td>\n",
       "      <td>685 Sexton Ranch Suite 125\\nLake Robertshire, ...</td>\n",
       "      <td>Cyan</td>\n",
       "      <td>31.123974</td>\n",
       "      <td>12.386516</td>\n",
       "      <td>35.632112</td>\n",
       "      <td>4.288487</td>\n",
       "      <td>486.947054</td>\n",
       "    </tr>\n",
       "  </tbody>\n",
       "</table>\n",
       "</div>"
      ],
      "text/plain": [
       "                                  Email  \\\n",
       "18              alejandro75@hotmail.com   \n",
       "125               jessica97@hotmail.com   \n",
       "221             mfoster@brown-white.com   \n",
       "240                 william28@gmail.com   \n",
       "296  fuenteskathryn@schmidt-johnson.org   \n",
       "310          veronicapruitt@hotmail.com   \n",
       "432             katherinegray@yahoo.com   \n",
       "\n",
       "                                               Address Avatar  \\\n",
       "18   64475 Andre Club Apt. 795\\nPort Dannytown, PW ...   Cyan   \n",
       "125  32202 Curtis Branch Apt. 411\\nPort Brettmouth,...   Cyan   \n",
       "221        36192 Ho Spring\\nNew Michael, RI 65851-6369   Cyan   \n",
       "240  16763 Melissa Creek Suite 367\\nNorth Keithland...   Cyan   \n",
       "296           839 Heather Cliff\\nSouth Blake, SC 90412   Cyan   \n",
       "310                   Unit 7502 Box 8345\\nDPO AE 53747   Cyan   \n",
       "432  685 Sexton Ranch Suite 125\\nLake Robertshire, ...   Cyan   \n",
       "\n",
       "     Avg. Session Length  Time on App  Time on Website  Length of Membership  \\\n",
       "18             32.187812    14.715388        38.244115              1.516576   \n",
       "125            31.576132    12.579894        37.093265              4.531987   \n",
       "221            33.636624    11.236507        37.675021              5.254709   \n",
       "240            32.922611    11.568116        36.909378              2.471751   \n",
       "296            33.612563    11.470565        37.061689              3.802511   \n",
       "310            33.248506    11.656592        36.548605              3.363411   \n",
       "432            31.123974    12.386516        35.632112              4.288487   \n",
       "\n",
       "     Yearly Amount Spent  \n",
       "18            452.315675  \n",
       "125           541.226584  \n",
       "221           591.437736  \n",
       "240           398.163469  \n",
       "296           506.423860  \n",
       "310           479.614812  \n",
       "432           486.947054  "
      ]
     },
     "execution_count": 14,
     "metadata": {},
     "output_type": "execute_result"
    }
   ],
   "source": [
    "df[df['Avatar']==\"Cyan\"]"
   ]
  },
  {
   "cell_type": "markdown",
   "metadata": {},
   "source": [
    "_________________\n",
    "_______________"
   ]
  },
  {
   "cell_type": "markdown",
   "metadata": {},
   "source": [
    "#### TOP 5 membership "
   ]
  },
  {
   "cell_type": "code",
   "execution_count": 15,
   "metadata": {},
   "outputs": [
    {
     "data": {
      "text/html": [
       "<div>\n",
       "<style scoped>\n",
       "    .dataframe tbody tr th:only-of-type {\n",
       "        vertical-align: middle;\n",
       "    }\n",
       "\n",
       "    .dataframe tbody tr th {\n",
       "        vertical-align: top;\n",
       "    }\n",
       "\n",
       "    .dataframe thead th {\n",
       "        text-align: right;\n",
       "    }\n",
       "</style>\n",
       "<table border=\"1\" class=\"dataframe\">\n",
       "  <thead>\n",
       "    <tr style=\"text-align: right;\">\n",
       "      <th></th>\n",
       "      <th>Email</th>\n",
       "      <th>Address</th>\n",
       "      <th>Avatar</th>\n",
       "      <th>Avg. Session Length</th>\n",
       "      <th>Time on App</th>\n",
       "      <th>Time on Website</th>\n",
       "      <th>Length of Membership</th>\n",
       "      <th>Yearly Amount Spent</th>\n",
       "    </tr>\n",
       "  </thead>\n",
       "  <tbody>\n",
       "    <tr>\n",
       "      <th>157</th>\n",
       "      <td>asilva@yahoo.com</td>\n",
       "      <td>USNV Johnson\\nFPO AP 19026</td>\n",
       "      <td>Wheat</td>\n",
       "      <td>34.603311</td>\n",
       "      <td>12.207298</td>\n",
       "      <td>33.913847</td>\n",
       "      <td>6.922689</td>\n",
       "      <td>744.221867</td>\n",
       "    </tr>\n",
       "    <tr>\n",
       "      <th>151</th>\n",
       "      <td>alicia85@lee.com</td>\n",
       "      <td>14220 Carla Flat Suite 521\\nLake Matthew, DE 0...</td>\n",
       "      <td>DimGray</td>\n",
       "      <td>32.887105</td>\n",
       "      <td>12.387184</td>\n",
       "      <td>37.431159</td>\n",
       "      <td>6.401229</td>\n",
       "      <td>684.163431</td>\n",
       "    </tr>\n",
       "    <tr>\n",
       "      <th>396</th>\n",
       "      <td>waltonkaren@gmail.com</td>\n",
       "      <td>355 Villegas Isle Apt. 070\\nWest Jenniferview,...</td>\n",
       "      <td>Green</td>\n",
       "      <td>35.742670</td>\n",
       "      <td>10.889828</td>\n",
       "      <td>35.565436</td>\n",
       "      <td>6.115199</td>\n",
       "      <td>669.987141</td>\n",
       "    </tr>\n",
       "    <tr>\n",
       "      <th>153</th>\n",
       "      <td>ebrown@osborne.com</td>\n",
       "      <td>4291 Nichols Fork Apt. 562\\nThomaschester, SC ...</td>\n",
       "      <td>DarkSlateGray</td>\n",
       "      <td>31.945396</td>\n",
       "      <td>12.965761</td>\n",
       "      <td>36.966389</td>\n",
       "      <td>6.076654</td>\n",
       "      <td>657.019924</td>\n",
       "    </tr>\n",
       "    <tr>\n",
       "      <th>50</th>\n",
       "      <td>william82@gmail.com</td>\n",
       "      <td>11143 Park Squares\\nSamanthatown, UT 97073</td>\n",
       "      <td>SandyBrown</td>\n",
       "      <td>33.256335</td>\n",
       "      <td>13.858062</td>\n",
       "      <td>37.780265</td>\n",
       "      <td>5.976768</td>\n",
       "      <td>725.584814</td>\n",
       "    </tr>\n",
       "  </tbody>\n",
       "</table>\n",
       "</div>"
      ],
      "text/plain": [
       "                     Email                                            Address  \\\n",
       "157       asilva@yahoo.com                         USNV Johnson\\nFPO AP 19026   \n",
       "151       alicia85@lee.com  14220 Carla Flat Suite 521\\nLake Matthew, DE 0...   \n",
       "396  waltonkaren@gmail.com  355 Villegas Isle Apt. 070\\nWest Jenniferview,...   \n",
       "153     ebrown@osborne.com  4291 Nichols Fork Apt. 562\\nThomaschester, SC ...   \n",
       "50     william82@gmail.com         11143 Park Squares\\nSamanthatown, UT 97073   \n",
       "\n",
       "            Avatar  Avg. Session Length  Time on App  Time on Website  \\\n",
       "157          Wheat            34.603311    12.207298        33.913847   \n",
       "151        DimGray            32.887105    12.387184        37.431159   \n",
       "396          Green            35.742670    10.889828        35.565436   \n",
       "153  DarkSlateGray            31.945396    12.965761        36.966389   \n",
       "50      SandyBrown            33.256335    13.858062        37.780265   \n",
       "\n",
       "     Length of Membership  Yearly Amount Spent  \n",
       "157              6.922689           744.221867  \n",
       "151              6.401229           684.163431  \n",
       "396              6.115199           669.987141  \n",
       "153              6.076654           657.019924  \n",
       "50               5.976768           725.584814  "
      ]
     },
     "execution_count": 15,
     "metadata": {},
     "output_type": "execute_result"
    }
   ],
   "source": [
    "df.sort_values('Length of Membership',ascending=False).head()"
   ]
  },
  {
   "cell_type": "markdown",
   "metadata": {},
   "source": [
    "___________\n",
    "________________"
   ]
  },
  {
   "cell_type": "markdown",
   "metadata": {},
   "source": [
    "#### Top 5 data of Wheat"
   ]
  },
  {
   "cell_type": "code",
   "execution_count": 16,
   "metadata": {},
   "outputs": [
    {
     "data": {
      "text/html": [
       "<div>\n",
       "<style scoped>\n",
       "    .dataframe tbody tr th:only-of-type {\n",
       "        vertical-align: middle;\n",
       "    }\n",
       "\n",
       "    .dataframe tbody tr th {\n",
       "        vertical-align: top;\n",
       "    }\n",
       "\n",
       "    .dataframe thead th {\n",
       "        text-align: right;\n",
       "    }\n",
       "</style>\n",
       "<table border=\"1\" class=\"dataframe\">\n",
       "  <thead>\n",
       "    <tr style=\"text-align: right;\">\n",
       "      <th></th>\n",
       "      <th>Email</th>\n",
       "      <th>Address</th>\n",
       "      <th>Avatar</th>\n",
       "      <th>Avg. Session Length</th>\n",
       "      <th>Time on App</th>\n",
       "      <th>Time on Website</th>\n",
       "      <th>Length of Membership</th>\n",
       "      <th>Yearly Amount Spent</th>\n",
       "    </tr>\n",
       "  </thead>\n",
       "  <tbody>\n",
       "    <tr>\n",
       "      <th>24</th>\n",
       "      <td>youngbarbara@yahoo.com</td>\n",
       "      <td>019 Elliott Tunnel Suite 190\\nNicholsbury, WV ...</td>\n",
       "      <td>Wheat</td>\n",
       "      <td>34.507551</td>\n",
       "      <td>12.893670</td>\n",
       "      <td>37.635756</td>\n",
       "      <td>5.705154</td>\n",
       "      <td>700.917092</td>\n",
       "    </tr>\n",
       "    <tr>\n",
       "      <th>102</th>\n",
       "      <td>acampbell@sanchez-velasquez.info</td>\n",
       "      <td>5791 Jessica Cove\\nMckinneyborough, OK 64460-7536</td>\n",
       "      <td>Wheat</td>\n",
       "      <td>32.425697</td>\n",
       "      <td>11.448902</td>\n",
       "      <td>37.580190</td>\n",
       "      <td>2.586968</td>\n",
       "      <td>420.737673</td>\n",
       "    </tr>\n",
       "    <tr>\n",
       "      <th>157</th>\n",
       "      <td>asilva@yahoo.com</td>\n",
       "      <td>USNV Johnson\\nFPO AP 19026</td>\n",
       "      <td>Wheat</td>\n",
       "      <td>34.603311</td>\n",
       "      <td>12.207298</td>\n",
       "      <td>33.913847</td>\n",
       "      <td>6.922689</td>\n",
       "      <td>744.221867</td>\n",
       "    </tr>\n",
       "    <tr>\n",
       "      <th>331</th>\n",
       "      <td>stephaniehill@hotmail.com</td>\n",
       "      <td>8248 Parker Overpass Apt. 024\\nLake Pamela, WY...</td>\n",
       "      <td>Wheat</td>\n",
       "      <td>32.274594</td>\n",
       "      <td>12.954811</td>\n",
       "      <td>37.108816</td>\n",
       "      <td>3.689917</td>\n",
       "      <td>533.040060</td>\n",
       "    </tr>\n",
       "    <tr>\n",
       "      <th>365</th>\n",
       "      <td>willie26@johnson-howard.com</td>\n",
       "      <td>97686 Robertson Cape Suite 607\\nPort Veronicas...</td>\n",
       "      <td>Wheat</td>\n",
       "      <td>32.030550</td>\n",
       "      <td>12.644202</td>\n",
       "      <td>38.001827</td>\n",
       "      <td>5.038107</td>\n",
       "      <td>594.274483</td>\n",
       "    </tr>\n",
       "  </tbody>\n",
       "</table>\n",
       "</div>"
      ],
      "text/plain": [
       "                                Email  \\\n",
       "24             youngbarbara@yahoo.com   \n",
       "102  acampbell@sanchez-velasquez.info   \n",
       "157                  asilva@yahoo.com   \n",
       "331         stephaniehill@hotmail.com   \n",
       "365       willie26@johnson-howard.com   \n",
       "\n",
       "                                               Address Avatar  \\\n",
       "24   019 Elliott Tunnel Suite 190\\nNicholsbury, WV ...  Wheat   \n",
       "102  5791 Jessica Cove\\nMckinneyborough, OK 64460-7536  Wheat   \n",
       "157                         USNV Johnson\\nFPO AP 19026  Wheat   \n",
       "331  8248 Parker Overpass Apt. 024\\nLake Pamela, WY...  Wheat   \n",
       "365  97686 Robertson Cape Suite 607\\nPort Veronicas...  Wheat   \n",
       "\n",
       "     Avg. Session Length  Time on App  Time on Website  Length of Membership  \\\n",
       "24             34.507551    12.893670        37.635756              5.705154   \n",
       "102            32.425697    11.448902        37.580190              2.586968   \n",
       "157            34.603311    12.207298        33.913847              6.922689   \n",
       "331            32.274594    12.954811        37.108816              3.689917   \n",
       "365            32.030550    12.644202        38.001827              5.038107   \n",
       "\n",
       "     Yearly Amount Spent  \n",
       "24            700.917092  \n",
       "102           420.737673  \n",
       "157           744.221867  \n",
       "331           533.040060  \n",
       "365           594.274483  "
      ]
     },
     "execution_count": 16,
     "metadata": {},
     "output_type": "execute_result"
    }
   ],
   "source": [
    "df[df['Avatar']=='Wheat'].head()"
   ]
  },
  {
   "cell_type": "markdown",
   "metadata": {},
   "source": [
    "____\n",
    "____________"
   ]
  },
  {
   "cell_type": "markdown",
   "metadata": {},
   "source": [
    "##### Minmum Avg Session Length"
   ]
  },
  {
   "cell_type": "code",
   "execution_count": 17,
   "metadata": {},
   "outputs": [
    {
     "data": {
      "text/plain": [
       "29.532428967057943"
      ]
     },
     "execution_count": 17,
     "metadata": {},
     "output_type": "execute_result"
    }
   ],
   "source": [
    "df['Avg. Session Length'].min()"
   ]
  },
  {
   "cell_type": "markdown",
   "metadata": {},
   "source": [
    "____________"
   ]
  },
  {
   "cell_type": "markdown",
   "metadata": {},
   "source": [
    "## Thank you"
   ]
  },
  {
   "cell_type": "markdown",
   "metadata": {},
   "source": [
    "_______________\n",
    "___________________"
   ]
  }
 ],
 "metadata": {
  "interpreter": {
   "hash": "5c8a7a553ce91d77c6733e151ce4889e0ba9b48b7babcd392ee923e8343d96a9"
  },
  "kernelspec": {
   "display_name": "Python 3.9.5 64-bit",
   "language": "python",
   "name": "python3"
  },
  "language_info": {
   "codemirror_mode": {
    "name": "ipython",
    "version": 3
   },
   "file_extension": ".py",
   "mimetype": "text/x-python",
   "name": "python",
   "nbconvert_exporter": "python",
   "pygments_lexer": "ipython3",
   "version": "3.9.5"
  },
  "orig_nbformat": 4
 },
 "nbformat": 4,
 "nbformat_minor": 2
}
